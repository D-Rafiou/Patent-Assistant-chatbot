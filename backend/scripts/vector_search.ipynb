{
 "cells": [
  {
   "cell_type": "code",
   "execution_count": null,
   "id": "642a84e0",
   "metadata": {},
   "outputs": [],
   "source": [
    "from sentence_transformers import SentenceTransformer\n",
    "import faiss\n",
    "import numpy as np\n",
    "import json\n"
   ]
  },
  {
   "cell_type": "code",
   "execution_count": null,
   "id": "01e6e2f0",
   "metadata": {},
   "outputs": [],
   "source": [
    "data = \"../output/output.json\"\n",
    "chunks = []\n",
    "\n",
    "with open(data,\"r\") as file:\n",
    "    chunks = json.load(file)\n",
    "content = [chunk[\"content\"] for chunk in chunks]"
   ]
  },
  {
   "cell_type": "code",
   "execution_count": null,
   "id": "0ef83868",
   "metadata": {},
   "outputs": [],
   "source": [
    "model = SentenceTransformer(\"all-MiniLM-L6-v2\")\n",
    "embeddings = model.encode(content,show_progress_bar=True)\n",
    "\n",
    "embeddings_np = np.array(embeddings).astype(\"float32\")\n",
    "faiss.normalize_L2(embeddings_np)\n",
    "index = faiss.IndexFlatIP(embeddings_np.shape[1])\n",
    "index.add(embeddings_np)\n",
    "# we make dictionary that maps index to chunk \n",
    "chunk_map = {i:chunk for i,chunk in enumerate(chunks)}"
   ]
  },
  {
   "cell_type": "code",
   "execution_count": null,
   "id": "95b35f10",
   "metadata": {},
   "outputs": [],
   "source": [
    "query = \"what is a good patent\"\n",
    "query_vec  = model.encode([query],show_progress_bar=True)\n",
    "faiss.normalize_L2(query_vec)\n",
    "k = 5\n",
    "distances,indices = index.search(query_vec,k)\n",
    "for idx in indices[0]:\n",
    "    chunk = chunk_map[idx]\n",
    "    print(f\"Content: {chunk['content']}\")\n",
    "    print(f\"chunk index: {chunk['metadata']['chunk_index']}\")\n",
    "    print(f\"title: {chunk['metadata']['section_title']}\")\n",
    "    print(f\"section number: {chunk['metadata']['section_number']}\")\n",
    "    print(\"*\" * 80)\n",
    "\n",
    "\n",
    "\n",
    "\n"
   ]
  },
  {
   "cell_type": "code",
   "execution_count": null,
   "id": "95b1eab6",
   "metadata": {},
   "outputs": [],
   "source": [
    "context = \"\\n\\n\".join(\n",
    "    chunk_map[idx][\"content\"] for idx in indices[0]\n",
    ")\n",
    "prompt = f\"You are a AI legal assistant specializing in the patent field specifically in the United states and with the uspto. Use the following context without mentioning the context to answer the users question Context: {context} Question: {query}\"\n"
   ]
  },
  {
   "cell_type": "code",
   "execution_count": null,
   "id": "19346268",
   "metadata": {},
   "outputs": [],
   "source": []
  },
  {
   "cell_type": "code",
   "execution_count": null,
   "id": "a22473d6",
   "metadata": {},
   "outputs": [],
   "source": [
    "import requests\n",
    "import os\n",
    "from dotenv import load_dotenv\n",
    "\n",
    "load_dotenv()  # loads variables from .env\n",
    "query = \"what is a good patent\"\n",
    "query_vec  = model.encode([query],show_progress_bar=True)\n",
    "faiss.normalize_L2(query_vec)\n",
    "k = 5\n",
    "distances,indices = index.search(query_vec,k)\n",
    "# for idx in indices[0]:\n",
    "#     chunk = chunk_map[idx]\n",
    "#     print(f\"Content: {chunk['content']}\")\n",
    "#     print(f\"chunk index: {chunk['metadata']['chunk_index']}\")\n",
    "#     print(f\"title: {chunk['metadata']['section_title']}\")\n",
    "#     print(f\"section number: {chunk['metadata']['section_number']}\")\n",
    "#     print(\"*\" * 80)\n",
    "\n",
    "\n",
    "context = \"\\n\\n\".join(\n",
    "    chunk_map[idx][\"content\"] for idx in indices[0]\n",
    ")\n",
    "prompt = f\"\"\"You are an AI legal assistant with expert knowledge of United States patent law and the USPTO (United States Patent and Trademark Office).  \n",
    "Use the following context **internally** to answer the user's question, but **do not mention the context, its existence, or that you used it** in your response.  \n",
    "Respond as if the knowledge is your own and part of your general expertise.  \n",
    "If the context does not fully answer the question, use your own legal knowledge to fill in any gaps as needed. Do not show your thinking answer directly\n",
    "\n",
    "Context: {context}  \n",
    "Question: {query}\"\"\"\n",
    "\n",
    "\n",
    "\n",
    "from together import Together\n",
    "\n",
    "client = Together() # auth defaults to os.environ.get(\"TOGETHER_API_KEY\")\n",
    "\n",
    "response = client.chat.completions.create(\n",
    "    model=\"Qwen/Qwen3-235B-A22B-Thinking-2507\",\n",
    "    messages=[\n",
    "      {\n",
    "        \"role\": \"user\",\n",
    "        \"content\": prompt\n",
    "                    }\n",
    "    ]\n",
    ")\n",
    "print(response.choices[0].message.content)\n",
    "\n"
   ]
  }
 ],
 "metadata": {
  "kernelspec": {
   "display_name": "Python 3",
   "language": "python",
   "name": "python3"
  },
  "language_info": {
   "codemirror_mode": {
    "name": "ipython",
    "version": 3
   },
   "file_extension": ".py",
   "mimetype": "text/x-python",
   "name": "python",
   "nbconvert_exporter": "python",
   "pygments_lexer": "ipython3",
   "version": "3.13.5"
  }
 },
 "nbformat": 4,
 "nbformat_minor": 5
}
